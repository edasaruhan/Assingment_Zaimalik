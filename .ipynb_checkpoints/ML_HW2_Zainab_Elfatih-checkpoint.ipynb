{
 "cells": [
  {
   "cell_type": "markdown",
   "id": "e545c6c4",
   "metadata": {},
   "source": [
    "Assignment: Binary Classification with Logistic Regression\n",
    "\n",
    "In this assignment, you will work with the Iris dataset to perform binary classification using logistic regression. The Iris dataset contains samples from three different species of iris flowers, but for this assignment, you will focus on classifying Iris Setosa (class 0) versus the combination of the other two classes (class 1).\n",
    "\n",
    "Here are the steps you need to follow for this assignment:\n",
    "\n",
    "Step 1: Load the Iris dataset\n",
    "\n",
    "Load the Iris dataset using sklearn.datasets.load_iris().\n",
    "Extract the feature matrix X and the target vector y."
   ]
  },
  {
   "cell_type": "code",
   "execution_count": 10,
   "id": "f956686e",
   "metadata": {},
   "outputs": [
    {
     "data": {
      "text/plain": [
       "array([0, 0, 0, 0, 0, 0, 0, 0, 0, 0, 0, 0, 0, 0, 0, 0, 0, 0, 0, 0, 0, 0,\n",
       "       0, 0, 0, 0, 0, 0, 0, 0, 0, 0, 0, 0, 0, 0, 0, 0, 0, 0, 0, 0, 0, 0,\n",
       "       0, 0, 0, 0, 0, 0, 1, 1, 1, 1, 1, 1, 1, 1, 1, 1, 1, 1, 1, 1, 1, 1,\n",
       "       1, 1, 1, 1, 1, 1, 1, 1, 1, 1, 1, 1, 1, 1, 1, 1, 1, 1, 1, 1, 1, 1,\n",
       "       1, 1, 1, 1, 1, 1, 1, 1, 1, 1, 1, 1, 2, 2, 2, 2, 2, 2, 2, 2, 2, 2,\n",
       "       2, 2, 2, 2, 2, 2, 2, 2, 2, 2, 2, 2, 2, 2, 2, 2, 2, 2, 2, 2, 2, 2,\n",
       "       2, 2, 2, 2, 2, 2, 2, 2, 2, 2, 2, 2, 2, 2, 2, 2, 2, 2])"
      ]
     },
     "execution_count": 10,
     "metadata": {},
     "output_type": "execute_result"
    }
   ],
   "source": [
    "import numpy as np\n",
    "from sklearn.datasets import load_iris\n",
    "from sklearn.model_selection import train_test_split\n",
    "from sklearn.metrics import accuracy_score, confusion_matrix, classification_report\n",
    "\n",
    "# Step 1: Load the Iris dataset\n",
    "iris = load_iris() \n",
    "X = iris.data  \n",
    "y = iris.target  \n",
    "y #check target structure"
   ]
  },
  {
   "cell_type": "markdown",
   "id": "b56a315f",
   "metadata": {},
   "source": [
    "Step 2: Preprocess the data\n",
    "\n",
    "To convert this problem into binary classification, create a new target vector y_binary where Iris Setosa (class 0) is labeled as 1, and the other two classes are labeled as 0."
   ]
  },
  {
   "cell_type": "code",
   "execution_count": 11,
   "id": "0d500c2c",
   "metadata": {},
   "outputs": [],
   "source": [
    "y_bin = np.where(y == 0, 1, 0) # target Versicolor 0 ,Setosa 1, Virginica 0 "
   ]
  },
  {
   "cell_type": "markdown",
   "id": "e2f9ee4c",
   "metadata": {},
   "source": [
    "Step 3: Split the dataset\n",
    "\n",
    "Split the dataset into training and testing sets using train_test_split() from sklearn.model_selection.\n",
    "Use 80% of the data for training and 20% for testing. Set the random_state to ensure reproducibility."
   ]
  },
  {
   "cell_type": "code",
   "execution_count": 12,
   "id": "6d507722",
   "metadata": {},
   "outputs": [
    {
     "name": "stdout",
     "output_type": "stream",
     "text": [
      "X_train shape (120, 4)\n",
      "X_test shape (30, 4)\n"
     ]
    }
   ],
   "source": [
    "X_train, X_test, y_train, y_test = train_test_split(X, y_bin, test_size=0.2, random_state=42)\n",
    "print('X_train shape',X_train.shape)\n",
    "print('X_test shape', X_test.shape)"
   ]
  },
  {
   "cell_type": "markdown",
   "id": "24496f32",
   "metadata": {},
   "source": [
    "Step 4: Define the cost function (logistic loss)\n",
    "\n",
    "Implement the logistic loss function, which calculates the cost of your model's predictions."
   ]
  },
  {
   "cell_type": "code",
   "execution_count": 13,
   "id": "56f601dd",
   "metadata": {},
   "outputs": [],
   "source": [
    "### -ylog(pred)-(1-y)log(1-pred) equation"
   ]
  },
  {
   "cell_type": "code",
   "execution_count": 14,
   "id": "df503bba",
   "metadata": {},
   "outputs": [],
   "source": [
    "def log_loss(y_true, y_pred):\n",
    "    #check that y_pred is not 0 or 1 to avoid division by zero\n",
    "    epsilon = 1e-15\n",
    "    y_pred = np.clip(y_pred, epsilon, 1 - epsilon)\n",
    "    \n",
    "    #logistic loss\n",
    "    loss = - (y_true * np.log(y_pred) + (1 - y_true) * np.log(1 - y_pred))\n",
    "    mean_loss = np.mean(loss)\n",
    "    \n",
    "    return mean_loss\n"
   ]
  },
  {
   "cell_type": "markdown",
   "id": "b3e51284",
   "metadata": {},
   "source": [
    "Step 5: Define the training function\n",
    "\n",
    "Implement a training function that uses gradient descent to optimize the logistic regression model.\n",
    "The function should take input data, learning rate, number of iterations, and regularization parameter as arguments."
   ]
  },
  {
   "cell_type": "code",
   "execution_count": 15,
   "id": "3703ecbe",
   "metadata": {},
   "outputs": [],
   "source": [
    "def sigmoid(z):\n",
    "    return 1 / (1 + np.exp(-z)) #1/1+e^-z\n",
    "\n",
    "def log_reg_train(X, y, learning_rate, iterations, reg_param):\n",
    "    num_samples, num_features = X.shape\n",
    "    w = np.zeros(num_features) #initialize w\n",
    "    b = 0 #initialize bais\n",
    "    \n",
    "    for iteration in range(iterations): \n",
    "        #calculate predictions\n",
    "        z = np.dot(X, w) + b\n",
    "        y_pred = sigmoid(z)\n",
    "        \n",
    "        #calculate gradient\n",
    "        gradient = np.dot(X.T, (y_pred - y)) / num_samples\n",
    "        \n",
    "        # update weights with gradient and regularization\n",
    "        w -= learning_rate * (gradient + (reg_param / num_samples) * w)\n",
    "        \n",
    "        #update bias\n",
    "        b -= learning_rate * np.sum(y_pred - y) / num_samples\n",
    "    \n",
    "    return w, b\n"
   ]
  },
  {
   "cell_type": "markdown",
   "id": "80d0fa4c",
   "metadata": {},
   "source": [
    "Step 6: Train the model\n",
    "\n",
    "Use the training function to train your logistic regression model on the training data.\n",
    "Obtain the weight vector W and bias term b."
   ]
  },
  {
   "cell_type": "code",
   "execution_count": 16,
   "id": "f2a2afcc",
   "metadata": {},
   "outputs": [],
   "source": [
    "learning_rate = 0.01\n",
    "iterations = 1000 \n",
    "reg_param = 0.1\n",
    "\n",
    "trained_w, trained_b = log_reg_train(X_train, y_train, learning_rate, iterations, reg_param)\n"
   ]
  },
  {
   "cell_type": "markdown",
   "id": "1ec81829",
   "metadata": {},
   "source": [
    "Step 7: Define the prediction function\n",
    "\n",
    "Implement a prediction function that takes input data and the trained model's weights and bias.\n",
    "The prediction function should use the logistic sigmoid function to make binary predictions (0 or 1)."
   ]
  },
  {
   "cell_type": "code",
   "execution_count": 17,
   "id": "1101e794",
   "metadata": {},
   "outputs": [],
   "source": [
    "def predict(X, w, b):\n",
    "    z = np.dot(X, w) + b\n",
    "    y_pred = sigmoid(z)\n",
    "    return (y_pred > 0.5).astype(int)"
   ]
  },
  {
   "cell_type": "markdown",
   "id": "4129fdf8",
   "metadata": {},
   "source": [
    "\n",
    "Step 8: Predict on the test set\n",
    "\n",
    "Use the prediction function to predict the classes for the test set X_test using the obtained weights and bias."
   ]
  },
  {
   "cell_type": "code",
   "execution_count": 18,
   "id": "220e2b37",
   "metadata": {},
   "outputs": [],
   "source": [
    "y_pred = predict(X_test, trained_w, trained_b)"
   ]
  },
  {
   "cell_type": "markdown",
   "id": "26e1f81a",
   "metadata": {},
   "source": [
    "\n",
    "\n",
    "Step 9: Evaluate the model's performance\n",
    "\n",
    "- Calculate the accuracy of your model using accuracy_score() from sklearn.metrics.\n",
    "- Generate the confusion matrix using confusion_matrix() from sklearn.metrics.\n",
    "- Generate the classification report using classification_report() from sklearn.metrics.\n",
    "- Print out the accuracy, confusion matrix, and classification report to evaluate your model's performance.\n",
    "- Make sure to comment your code and provide explanations for each step. This assignment will help you understand the basics of binary classification, logistic regression, and how to evaluate the performance of your model using various metrics."
   ]
  },
  {
   "cell_type": "code",
   "execution_count": 19,
   "id": "9b58ff40",
   "metadata": {},
   "outputs": [
    {
     "name": "stdout",
     "output_type": "stream",
     "text": [
      "Accuracy: 1.0\n",
      "Confusion Matrix:\n",
      " [[20  0]\n",
      " [ 0 10]]\n",
      "Classification Report:\n",
      "               precision    recall  f1-score   support\n",
      "\n",
      "           0       1.00      1.00      1.00        20\n",
      "           1       1.00      1.00      1.00        10\n",
      "\n",
      "    accuracy                           1.00        30\n",
      "   macro avg       1.00      1.00      1.00        30\n",
      "weighted avg       1.00      1.00      1.00        30\n",
      "\n"
     ]
    }
   ],
   "source": [
    "accuracy = accuracy_score(y_test, y_pred)\n",
    "confusion = confusion_matrix(y_test, y_pred)\n",
    "report = classification_report(y_test, y_pred)\n",
    "\n",
    "print(\"Accuracy:\", accuracy)\n",
    "print(\"Confusion Matrix:\\n\", confusion)\n",
    "print(\"Classification Report:\\n\", report)\n"
   ]
  },
  {
   "cell_type": "code",
   "execution_count": null,
   "id": "8cbbb5cf",
   "metadata": {},
   "outputs": [],
   "source": []
  },
  {
   "cell_type": "code",
   "execution_count": null,
   "id": "b4446321",
   "metadata": {},
   "outputs": [],
   "source": []
  },
  {
   "cell_type": "code",
   "execution_count": null,
   "id": "1b0fc511",
   "metadata": {},
   "outputs": [],
   "source": []
  },
  {
   "cell_type": "code",
   "execution_count": null,
   "id": "dfc4a67a",
   "metadata": {},
   "outputs": [],
   "source": []
  },
  {
   "cell_type": "code",
   "execution_count": null,
   "id": "f1ec4f54",
   "metadata": {},
   "outputs": [],
   "source": []
  },
  {
   "cell_type": "code",
   "execution_count": null,
   "id": "5c64f9bc",
   "metadata": {},
   "outputs": [],
   "source": []
  },
  {
   "cell_type": "code",
   "execution_count": null,
   "id": "263fa08b",
   "metadata": {},
   "outputs": [],
   "source": []
  },
  {
   "cell_type": "code",
   "execution_count": null,
   "id": "57290d46",
   "metadata": {},
   "outputs": [],
   "source": []
  }
 ],
 "metadata": {
  "kernelspec": {
   "display_name": "Python 3 (ipykernel)",
   "language": "python",
   "name": "python3"
  },
  "language_info": {
   "codemirror_mode": {
    "name": "ipython",
    "version": 3
   },
   "file_extension": ".py",
   "mimetype": "text/x-python",
   "name": "python",
   "nbconvert_exporter": "python",
   "pygments_lexer": "ipython3",
   "version": "3.11.3"
  }
 },
 "nbformat": 4,
 "nbformat_minor": 5
}
